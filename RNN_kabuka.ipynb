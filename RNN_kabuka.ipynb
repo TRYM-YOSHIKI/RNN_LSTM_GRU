{
 "cells": [
  {
   "cell_type": "code",
   "execution_count": 1,
   "metadata": {},
   "outputs": [],
   "source": [
    "import pandas as pd\n",
    "import numpy as np\n",
    "import tensorflow as tf\n",
    "from tensorflow import keras\n",
    "from sklearn.metrics import r2_score\n",
    "import matplotlib.pyplot as plt"
   ]
  },
  {
   "cell_type": "code",
   "execution_count": 31,
   "metadata": {},
   "outputs": [
    {
     "data": {
      "text/html": [
       "<div>\n",
       "<style scoped>\n",
       "    .dataframe tbody tr th:only-of-type {\n",
       "        vertical-align: middle;\n",
       "    }\n",
       "\n",
       "    .dataframe tbody tr th {\n",
       "        vertical-align: top;\n",
       "    }\n",
       "\n",
       "    .dataframe thead th {\n",
       "        text-align: right;\n",
       "    }\n",
       "</style>\n",
       "<table border=\"1\" class=\"dataframe\">\n",
       "  <thead>\n",
       "    <tr style=\"text-align: right;\">\n",
       "      <th></th>\n",
       "      <th>x</th>\n",
       "      <th>y</th>\n",
       "    </tr>\n",
       "  </thead>\n",
       "  <tbody>\n",
       "    <tr>\n",
       "      <th>0</th>\n",
       "      <td>0</td>\n",
       "      <td>67000.00000</td>\n",
       "    </tr>\n",
       "    <tr>\n",
       "      <th>1</th>\n",
       "      <td>1</td>\n",
       "      <td>71297.49458</td>\n",
       "    </tr>\n",
       "    <tr>\n",
       "      <th>2</th>\n",
       "      <td>2</td>\n",
       "      <td>75186.53415</td>\n",
       "    </tr>\n",
       "    <tr>\n",
       "      <th>3</th>\n",
       "      <td>3</td>\n",
       "      <td>78522.60245</td>\n",
       "    </tr>\n",
       "    <tr>\n",
       "      <th>4</th>\n",
       "      <td>4</td>\n",
       "      <td>81178.06986</td>\n",
       "    </tr>\n",
       "  </tbody>\n",
       "</table>\n",
       "</div>"
      ],
      "text/plain": [
       "   x            y\n",
       "0  0  67000.00000\n",
       "1  1  71297.49458\n",
       "2  2  75186.53415\n",
       "3  3  78522.60245\n",
       "4  4  81178.06986"
      ]
     },
     "execution_count": 31,
     "metadata": {},
     "output_type": "execute_result"
    }
   ],
   "source": [
    "# csvファイルからPandas DataFrameへ読み込み\n",
    "data = pd.read_csv('rand_kabuka_1.csv', delimiter=',', low_memory=False, header=None)\n",
    "data.columns = ['x', 'y']\n",
    "\n",
    "# 冒頭を表示して確認\n",
    "data.head()"
   ]
  },
  {
   "cell_type": "code",
   "execution_count": 32,
   "metadata": {},
   "outputs": [
    {
     "data": {
      "text/plain": [
       "<matplotlib.axes._subplots.AxesSubplot at 0x7fba12e604f0>"
      ]
     },
     "execution_count": 32,
     "metadata": {},
     "output_type": "execute_result"
    },
    {
     "data": {
      "image/png": "[encoded data removed]",
      "text/plain": [
       "<Figure size 432x288 with 1 Axes>"
      ]
     },
     "metadata": {
      "needs_background": "light"
     },
     "output_type": "display_data"
    }
   ],
   "source": [
    "data.y.plot()"
   ]
  },
  {
   "cell_type": "code",
   "execution_count": 33,
   "metadata": {},
   "outputs": [
    {
     "data": {
      "text/html": [
       "<div>\n",
       "<style scoped>\n",
       "    .dataframe tbody tr th:only-of-type {\n",
       "        vertical-align: middle;\n",
       "    }\n",
       "\n",
       "    .dataframe tbody tr th {\n",
       "        vertical-align: top;\n",
       "    }\n",
       "\n",
       "    .dataframe thead th {\n",
       "        text-align: right;\n",
       "    }\n",
       "</style>\n",
       "<table border=\"1\" class=\"dataframe\">\n",
       "  <thead>\n",
       "    <tr style=\"text-align: right;\">\n",
       "      <th></th>\n",
       "      <th>0</th>\n",
       "    </tr>\n",
       "  </thead>\n",
       "  <tbody>\n",
       "    <tr>\n",
       "      <th>0</th>\n",
       "      <td>0.688866</td>\n",
       "    </tr>\n",
       "    <tr>\n",
       "      <th>1</th>\n",
       "      <td>0.895568</td>\n",
       "    </tr>\n",
       "    <tr>\n",
       "      <th>2</th>\n",
       "      <td>1.082624</td>\n",
       "    </tr>\n",
       "    <tr>\n",
       "      <th>3</th>\n",
       "      <td>1.243083</td>\n",
       "    </tr>\n",
       "    <tr>\n",
       "      <th>4</th>\n",
       "      <td>1.370807</td>\n",
       "    </tr>\n",
       "  </tbody>\n",
       "</table>\n",
       "</div>"
      ],
      "text/plain": [
       "          0\n",
       "0  0.688866\n",
       "1  0.895568\n",
       "2  1.082624\n",
       "3  1.243083\n",
       "4  1.370807"
      ]
     },
     "execution_count": 33,
     "metadata": {},
     "output_type": "execute_result"
    }
   ],
   "source": [
    "# データを標準化する\n",
    "y_data = data.y.values\n",
    "xmean = y_data.mean()\n",
    "xstd  = np.std(y_data)\n",
    "zscore = (y_data-xmean)/xstd\n",
    "\n",
    "Y = pd.DataFrame(zscore)\n",
    "\n",
    "Y.head()"
   ]
  },
  {
   "cell_type": "code",
   "execution_count": 34,
   "metadata": {},
   "outputs": [],
   "source": [
    "# 10日分のデータを１塊とした窓を作る\n",
    "n_prev = 10\n",
    "def _load_data(split_data):\n",
    "    docX, docY = [], []\n",
    "    for i in range(len(split_data)-n_prev):\n",
    "        docX.append(split_data.iloc[i:i+n_prev].values)\n",
    "        docY.append(split_data.iloc[i+n_prev].values)\n",
    "    alsX = np.array(docX)\n",
    "    alsY = np.array(docY)\n",
    "    \n",
    "    return alsX, alsY"
   ]
  },
  {
   "cell_type": "code",
   "execution_count": 45,
   "metadata": {},
   "outputs": [
    {
     "data": {
      "text/plain": [
       "((90, 10, 1), (90, 1), (90, 10, 1), (90, 1))"
      ]
     },
     "execution_count": 45,
     "metadata": {},
     "output_type": "execute_result"
    }
   ],
   "source": [
    "# データを訓練データと検証データに分割する\n",
    "split_num = 100\n",
    "x_train, y_train = _load_data(Y.iloc[0:split_num])\n",
    "x_test, y_test = _load_data(Y.iloc[split_num:])\n",
    "\n",
    "x_train.shape, y_train.shape, x_test.shape, y_test.shape"
   ]
  },
  {
   "cell_type": "code",
   "execution_count": 50,
   "metadata": {},
   "outputs": [],
   "source": [
    "# RMSE関数を定義\n",
    "def rmse(y_pred, y_true):\n",
    "    return np.sqrt(((y_true - y_pred) ** 2).mean())"
   ]
  },
  {
   "cell_type": "code",
   "execution_count": 46,
   "metadata": {},
   "outputs": [],
   "source": [
    "# パラメータ設定\n",
    "length_of_sequences = x_train.shape[1]\n",
    "hidden_neurons = 100\n",
    "in_out_neurons = 1"
   ]
  },
  {
   "cell_type": "markdown",
   "metadata": {},
   "source": [
    "# LSTM-------------------------------------------"
   ]
  },
  {
   "cell_type": "code",
   "execution_count": 47,
   "metadata": {},
   "outputs": [],
   "source": [
    "# RNN(LSTM)モデルを構築\n",
    "model = keras.Sequential([\n",
    "        keras.layers.LSTM(hidden_neurons, batch_input_shape=(None, length_of_sequences, in_out_neurons), return_sequences=False),\n",
    "        keras.layers.Dropout(0.25),\n",
    "        keras.layers.Dense(in_out_neurons, activation='linear'),\n",
    "])"
   ]
  },
  {
   "cell_type": "code",
   "execution_count": 48,
   "metadata": {},
   "outputs": [
    {
     "name": "stdout",
     "output_type": "stream",
     "text": [
      "Model: \"sequential_3\"\n",
      "_________________________________________________________________\n",
      "Layer (type)                 Output Shape              Param #   \n",
      "=================================================================\n",
      "lstm_3 (LSTM)                (None, 100)               40800     \n",
      "_________________________________________________________________\n",
      "dropout_3 (Dropout)          (None, 100)               0         \n",
      "_________________________________________________________________\n",
      "dense_3 (Dense)              (None, 1)                 101       \n",
      "=================================================================\n",
      "Total params: 40,901\n",
      "Trainable params: 40,901\n",
      "Non-trainable params: 0\n",
      "_________________________________________________________________\n"
     ]
    }
   ],
   "source": [
    "# モデルをコンパイルして構造を表示\n",
    "model.compile(optimizer='adam',\n",
    "              loss='mean_squared_error')\n",
    "\n",
    "model.summary()"
   ]
  },
  {
   "cell_type": "code",
   "execution_count": 49,
   "metadata": {},
   "outputs": [
    {
     "name": "stdout",
     "output_type": "stream",
     "text": [
      "Epoch 1/100\n",
      "8/8 [==============================] - 1s 7ms/step - loss: 0.9455\n",
      "Epoch 2/100\n",
      "8/8 [==============================] - 0s 6ms/step - loss: 0.4591\n",
      "Epoch 3/100\n",
      "8/8 [==============================] - 0s 5ms/step - loss: 0.4478\n",
      "Epoch 4/100\n",
      "8/8 [==============================] - 0s 6ms/step - loss: 0.3099\n",
      "Epoch 5/100\n",
      "8/8 [==============================] - 0s 5ms/step - loss: 0.3033\n",
      "Epoch 6/100\n",
      "8/8 [==============================] - 0s 5ms/step - loss: 0.2012\n",
      "Epoch 7/100\n",
      "8/8 [==============================] - 0s 5ms/step - loss: 0.1320\n",
      "Epoch 8/100\n",
      "8/8 [==============================] - 0s 6ms/step - loss: 0.0667\n",
      "Epoch 9/100\n",
      "8/8 [==============================] - 0s 6ms/step - loss: 0.0666\n",
      "Epoch 10/100\n",
      "8/8 [==============================] - 0s 6ms/step - loss: 0.0577\n",
      "Epoch 11/100\n",
      "8/8 [==============================] - 0s 5ms/step - loss: 0.0517\n",
      "Epoch 12/100\n",
      "8/8 [==============================] - 0s 5ms/step - loss: 0.0553\n",
      "Epoch 13/100\n",
      "8/8 [==============================] - 0s 6ms/step - loss: 0.0441\n",
      "Epoch 14/100\n",
      "8/8 [==============================] - 0s 5ms/step - loss: 0.0365\n",
      "Epoch 15/100\n",
      "8/8 [==============================] - 0s 5ms/step - loss: 0.0401\n",
      "Epoch 16/100\n",
      "8/8 [==============================] - 0s 6ms/step - loss: 0.0409\n",
      "Epoch 17/100\n",
      "8/8 [==============================] - 0s 5ms/step - loss: 0.0552\n",
      "Epoch 18/100\n",
      "8/8 [==============================] - 0s 7ms/step - loss: 0.0369\n",
      "Epoch 19/100\n",
      "8/8 [==============================] - 0s 5ms/step - loss: 0.0438\n",
      "Epoch 20/100\n",
      "8/8 [==============================] - 0s 7ms/step - loss: 0.0331\n",
      "Epoch 21/100\n",
      "8/8 [==============================] - 0s 7ms/step - loss: 0.0396\n",
      "Epoch 22/100\n",
      "8/8 [==============================] - 0s 5ms/step - loss: 0.0297\n",
      "Epoch 23/100\n",
      "8/8 [==============================] - 0s 5ms/step - loss: 0.0318\n",
      "Epoch 24/100\n",
      "8/8 [==============================] - 0s 6ms/step - loss: 0.0313\n",
      "Epoch 25/100\n",
      "8/8 [==============================] - 0s 5ms/step - loss: 0.0357\n",
      "Epoch 26/100\n",
      "8/8 [==============================] - 0s 6ms/step - loss: 0.0365\n",
      "Epoch 27/100\n",
      "8/8 [==============================] - 0s 6ms/step - loss: 0.0269\n",
      "Epoch 28/100\n",
      "8/8 [==============================] - 0s 5ms/step - loss: 0.0281\n",
      "Epoch 29/100\n",
      "8/8 [==============================] - 0s 6ms/step - loss: 0.0317\n",
      "Epoch 30/100\n",
      "8/8 [==============================] - 0s 5ms/step - loss: 0.0362\n",
      "Epoch 31/100\n",
      "8/8 [==============================] - 0s 7ms/step - loss: 0.0306\n",
      "Epoch 32/100\n",
      "8/8 [==============================] - 0s 7ms/step - loss: 0.0305\n",
      "Epoch 33/100\n",
      "8/8 [==============================] - 0s 5ms/step - loss: 0.0240\n",
      "Epoch 34/100\n",
      "8/8 [==============================] - 0s 6ms/step - loss: 0.0363\n",
      "Epoch 35/100\n",
      "8/8 [==============================] - 0s 5ms/step - loss: 0.0321\n",
      "Epoch 36/100\n",
      "8/8 [==============================] - 0s 6ms/step - loss: 0.0256\n",
      "Epoch 37/100\n",
      "8/8 [==============================] - 0s 5ms/step - loss: 0.0311\n",
      "Epoch 38/100\n",
      "8/8 [==============================] - 0s 7ms/step - loss: 0.0208\n",
      "Epoch 39/100\n",
      "8/8 [==============================] - 0s 7ms/step - loss: 0.0184\n",
      "Epoch 40/100\n",
      "8/8 [==============================] - 0s 7ms/step - loss: 0.0246\n",
      "Epoch 41/100\n",
      "8/8 [==============================] - 0s 5ms/step - loss: 0.0204\n",
      "Epoch 42/100\n",
      "8/8 [==============================] - 0s 5ms/step - loss: 0.0201\n",
      "Epoch 43/100\n",
      "8/8 [==============================] - 0s 8ms/step - loss: 0.0222\n",
      "Epoch 44/100\n",
      "8/8 [==============================] - 0s 12ms/step - loss: 0.0162\n",
      "Epoch 45/100\n",
      "8/8 [==============================] - 0s 9ms/step - loss: 0.0168\n",
      "Epoch 46/100\n",
      "8/8 [==============================] - 0s 8ms/step - loss: 0.0185\n",
      "Epoch 47/100\n",
      "8/8 [==============================] - 0s 8ms/step - loss: 0.0168\n",
      "Epoch 48/100\n",
      "8/8 [==============================] - 0s 9ms/step - loss: 0.0255\n",
      "Epoch 49/100\n",
      "8/8 [==============================] - 0s 9ms/step - loss: 0.0163\n",
      "Epoch 50/100\n",
      "8/8 [==============================] - 0s 8ms/step - loss: 0.0147\n",
      "Epoch 51/100\n",
      "8/8 [==============================] - 0s 7ms/step - loss: 0.0176\n",
      "Epoch 52/100\n",
      "8/8 [==============================] - 0s 9ms/step - loss: 0.0121\n",
      "Epoch 53/100\n",
      "8/8 [==============================] - 0s 13ms/step - loss: 0.0115\n",
      "Epoch 54/100\n",
      "8/8 [==============================] - 0s 10ms/step - loss: 0.0154\n",
      "Epoch 55/100\n",
      "8/8 [==============================] - 0s 7ms/step - loss: 0.0141\n",
      "Epoch 56/100\n",
      "8/8 [==============================] - 0s 5ms/step - loss: 0.0188\n",
      "Epoch 57/100\n",
      "8/8 [==============================] - 0s 5ms/step - loss: 0.0122\n",
      "Epoch 58/100\n",
      "8/8 [==============================] - 0s 6ms/step - loss: 0.0155\n",
      "Epoch 59/100\n",
      "8/8 [==============================] - 0s 11ms/step - loss: 0.0108\n",
      "Epoch 60/100\n",
      "8/8 [==============================] - 0s 8ms/step - loss: 0.0096\n",
      "Epoch 61/100\n",
      "8/8 [==============================] - 0s 8ms/step - loss: 0.0113\n",
      "Epoch 62/100\n",
      "8/8 [==============================] - 0s 7ms/step - loss: 0.0143\n",
      "Epoch 63/100\n",
      "8/8 [==============================] - 0s 7ms/step - loss: 0.0086\n",
      "Epoch 64/100\n",
      "8/8 [==============================] - 0s 7ms/step - loss: 0.0096\n",
      "Epoch 65/100\n",
      "8/8 [==============================] - 0s 8ms/step - loss: 0.0073\n",
      "Epoch 66/100\n",
      "8/8 [==============================] - 0s 8ms/step - loss: 0.0094\n",
      "Epoch 67/100\n",
      "8/8 [==============================] - 0s 10ms/step - loss: 0.0104\n",
      "Epoch 68/100\n",
      "8/8 [==============================] - 0s 10ms/step - loss: 0.0096\n",
      "Epoch 69/100\n",
      "8/8 [==============================] - 0s 11ms/step - loss: 0.0118\n",
      "Epoch 70/100\n",
      "8/8 [==============================] - 0s 9ms/step - loss: 0.0135\n",
      "Epoch 71/100\n",
      "8/8 [==============================] - 0s 9ms/step - loss: 0.0130\n",
      "Epoch 72/100\n",
      "8/8 [==============================] - 0s 11ms/step - loss: 0.0097\n",
      "Epoch 73/100\n",
      "8/8 [==============================] - 0s 9ms/step - loss: 0.0132\n",
      "Epoch 74/100\n",
      "8/8 [==============================] - 0s 8ms/step - loss: 0.0099\n",
      "Epoch 75/100\n",
      "8/8 [==============================] - 0s 6ms/step - loss: 0.0077\n",
      "Epoch 76/100\n",
      "8/8 [==============================] - 0s 5ms/step - loss: 0.0152\n",
      "Epoch 77/100\n",
      "8/8 [==============================] - 0s 6ms/step - loss: 0.0120\n",
      "Epoch 78/100\n",
      "8/8 [==============================] - 0s 5ms/step - loss: 0.0062\n",
      "Epoch 79/100\n",
      "8/8 [==============================] - 0s 5ms/step - loss: 0.0057\n",
      "Epoch 80/100\n",
      "8/8 [==============================] - 0s 6ms/step - loss: 0.0063\n",
      "Epoch 81/100\n",
      "8/8 [==============================] - 0s 6ms/step - loss: 0.0056\n",
      "Epoch 82/100\n",
      "8/8 [==============================] - 0s 6ms/step - loss: 0.0091\n",
      "Epoch 83/100\n",
      "8/8 [==============================] - 0s 5ms/step - loss: 0.0046\n",
      "Epoch 84/100\n",
      "8/8 [==============================] - 0s 5ms/step - loss: 0.0087\n",
      "Epoch 85/100\n",
      "8/8 [==============================] - 0s 5ms/step - loss: 0.0075\n",
      "Epoch 86/100\n",
      "8/8 [==============================] - 0s 5ms/step - loss: 0.0075\n",
      "Epoch 87/100\n",
      "8/8 [==============================] - 0s 6ms/step - loss: 0.0083\n",
      "Epoch 88/100\n",
      "8/8 [==============================] - 0s 8ms/step - loss: 0.0095\n",
      "Epoch 89/100\n",
      "8/8 [==============================] - 0s 6ms/step - loss: 0.0099\n",
      "Epoch 90/100\n",
      "8/8 [==============================] - 0s 5ms/step - loss: 0.0068\n",
      "Epoch 91/100\n",
      "8/8 [==============================] - 0s 6ms/step - loss: 0.0085\n",
      "Epoch 92/100\n",
      "8/8 [==============================] - 0s 6ms/step - loss: 0.0068\n",
      "Epoch 93/100\n",
      "8/8 [==============================] - 0s 6ms/step - loss: 0.0136\n",
      "Epoch 94/100\n",
      "8/8 [==============================] - 0s 7ms/step - loss: 0.0060\n",
      "Epoch 95/100\n",
      "8/8 [==============================] - 0s 6ms/step - loss: 0.0095\n",
      "Epoch 96/100\n",
      "8/8 [==============================] - 0s 6ms/step - loss: 0.0076\n",
      "Epoch 97/100\n",
      "8/8 [==============================] - 0s 6ms/step - loss: 0.0070\n",
      "Epoch 98/100\n",
      "8/8 [==============================] - 0s 6ms/step - loss: 0.0058\n",
      "Epoch 99/100\n",
      "8/8 [==============================] - 0s 7ms/step - loss: 0.0100\n",
      "Epoch 100/100\n",
      "8/8 [==============================] - 0s 6ms/step - loss: 0.0116\n"
     ]
    },
    {
     "data": {
      "text/plain": [
       "<tensorflow.python.keras.callbacks.History at 0x7fba15d09400>"
      ]
     },
     "execution_count": 49,
     "metadata": {},
     "output_type": "execute_result"
    }
   ],
   "source": [
    "# 学習させる\n",
    "model.fit(x_train, y_train, batch_size=12, epochs=100)"
   ]
  },
  {
   "cell_type": "code",
   "execution_count": 51,
   "metadata": {},
   "outputs": [
    {
     "name": "stdout",
     "output_type": "stream",
     "text": [
      "RMSE: 0.051\n",
      "r2: 0.998\n"
     ]
    }
   ],
   "source": [
    "# 学習データへの精度\n",
    "y_train_pred = model.predict(x_train)\n",
    "print('RMSE: %.3f' % rmse(y_train, y_train_pred))\n",
    "print('r2: %.3f' % r2_score(y_train, y_train_pred))"
   ]
  },
  {
   "cell_type": "code",
   "execution_count": 52,
   "metadata": {},
   "outputs": [
    {
     "data": {
      "text/plain": [
       "<matplotlib.axes._subplots.AxesSubplot at 0x7fba179fd6a0>"
      ]
     },
     "execution_count": 52,
     "metadata": {},
     "output_type": "execute_result"
    },
    {
     "data": {
      "image/png": "[encoded data removed]",
      "text/plain": [
       "<Figure size 432x288 with 1 Axes>"
      ]
     },
     "metadata": {
      "needs_background": "light"
     },
     "output_type": "display_data"
    }
   ],
   "source": [
    "# 実績と比較\n",
    "dataf =  pd.DataFrame(y_train_pred)\n",
    "dataf.columns = [\"predict\"]\n",
    "dataf[\"Stock price\"] = y_train\n",
    "dataf.plot()"
   ]
  },
  {
   "cell_type": "code",
   "execution_count": 53,
   "metadata": {},
   "outputs": [
    {
     "name": "stdout",
     "output_type": "stream",
     "text": [
      "RMSE: 0.051\n",
      "r2: 0.993\n"
     ]
    }
   ],
   "source": [
    "# 検証データへの精度\n",
    "y_test_pred = model.predict(x_test)\n",
    "print('RMSE: %.3f' % rmse(y_train, y_train_pred))\n",
    "print('r2: %.3f' % r2_score(y_test, y_test_pred))"
   ]
  },
  {
   "cell_type": "code",
   "execution_count": 54,
   "metadata": {},
   "outputs": [
    {
     "data": {
      "text/plain": [
       "<matplotlib.axes._subplots.AxesSubplot at 0x7fba169c9760>"
      ]
     },
     "execution_count": 54,
     "metadata": {},
     "output_type": "execute_result"
    },
    {
     "data": {
      "image/png": "[encoded data removed]",
      "text/plain": [
       "<Figure size 432x288 with 1 Axes>"
      ]
     },
     "metadata": {
      "needs_background": "light"
     },
     "output_type": "display_data"
    }
   ],
   "source": [
    "# 実績と比較\n",
    "dataf =  pd.DataFrame(y_test_pred)\n",
    "dataf.columns = [\"predict\"]\n",
    "dataf[\"Stock price\"] = y_test\n",
    "dataf.plot()"
   ]
  },
  {
   "cell_type": "markdown",
   "metadata": {},
   "source": [
    "# GRU-------------------------------------------"
   ]
  },
  {
   "cell_type": "code",
   "execution_count": 57,
   "metadata": {},
   "outputs": [],
   "source": [
    "# RNN(LSTM)モデルを構築\n",
    "model_GRU = keras.Sequential([\n",
    "        keras.layers.GRU(hidden_neurons, batch_input_shape=(None, length_of_sequences, in_out_neurons), return_sequences=False),\n",
    "        keras.layers.Dropout(0.25),\n",
    "        keras.layers.Dense(in_out_neurons, activation='linear'),\n",
    "])"
   ]
  },
  {
   "cell_type": "code",
   "execution_count": 58,
   "metadata": {},
   "outputs": [
    {
     "name": "stdout",
     "output_type": "stream",
     "text": [
      "Model: \"sequential_5\"\n",
      "_________________________________________________________________\n",
      "Layer (type)                 Output Shape              Param #   \n",
      "=================================================================\n",
      "gru_1 (GRU)                  (None, 100)               30900     \n",
      "_________________________________________________________________\n",
      "dropout_5 (Dropout)          (None, 100)               0         \n",
      "_________________________________________________________________\n",
      "dense_5 (Dense)              (None, 1)                 101       \n",
      "=================================================================\n",
      "Total params: 31,001\n",
      "Trainable params: 31,001\n",
      "Non-trainable params: 0\n",
      "_________________________________________________________________\n"
     ]
    }
   ],
   "source": [
    "# モデルをコンパイルして構造を表示\n",
    "model_GRU.compile(optimizer='adam',\n",
    "              loss='mean_squared_error')\n",
    "\n",
    "model_GRU.summary()"
   ]
  },
  {
   "cell_type": "code",
   "execution_count": 59,
   "metadata": {},
   "outputs": [
    {
     "name": "stdout",
     "output_type": "stream",
     "text": [
      "Epoch 1/100\n",
      "8/8 [==============================] - 1s 6ms/step - loss: 1.2714\n",
      "Epoch 2/100\n",
      "8/8 [==============================] - 0s 6ms/step - loss: 0.4487\n",
      "Epoch 3/100\n",
      "8/8 [==============================] - 0s 5ms/step - loss: 0.2496\n",
      "Epoch 4/100\n",
      "8/8 [==============================] - 0s 5ms/step - loss: 0.2219\n",
      "Epoch 5/100\n",
      "8/8 [==============================] - 0s 6ms/step - loss: 0.1389\n",
      "Epoch 6/100\n",
      "8/8 [==============================] - 0s 5ms/step - loss: 0.1286\n",
      "Epoch 7/100\n",
      "8/8 [==============================] - 0s 6ms/step - loss: 0.0846\n",
      "Epoch 8/100\n",
      "8/8 [==============================] - 0s 6ms/step - loss: 0.0741\n",
      "Epoch 9/100\n",
      "8/8 [==============================] - 0s 6ms/step - loss: 0.0447\n",
      "Epoch 10/100\n",
      "8/8 [==============================] - 0s 6ms/step - loss: 0.0414\n",
      "Epoch 11/100\n",
      "8/8 [==============================] - 0s 5ms/step - loss: 0.0280\n",
      "Epoch 12/100\n",
      "8/8 [==============================] - 0s 7ms/step - loss: 0.0251\n",
      "Epoch 13/100\n",
      "8/8 [==============================] - 0s 8ms/step - loss: 0.0227\n",
      "Epoch 14/100\n",
      "8/8 [==============================] - 0s 10ms/step - loss: 0.0257\n",
      "Epoch 15/100\n",
      "8/8 [==============================] - 0s 10ms/step - loss: 0.0234\n",
      "Epoch 16/100\n",
      "8/8 [==============================] - 0s 9ms/step - loss: 0.0242\n",
      "Epoch 17/100\n",
      "8/8 [==============================] - 0s 7ms/step - loss: 0.0323\n",
      "Epoch 18/100\n",
      "8/8 [==============================] - 0s 7ms/step - loss: 0.0188\n",
      "Epoch 19/100\n",
      "8/8 [==============================] - 0s 8ms/step - loss: 0.0202\n",
      "Epoch 20/100\n",
      "8/8 [==============================] - 0s 7ms/step - loss: 0.0186\n",
      "Epoch 21/100\n",
      "8/8 [==============================] - 0s 7ms/step - loss: 0.0267\n",
      "Epoch 22/100\n",
      "8/8 [==============================] - 0s 7ms/step - loss: 0.0158\n",
      "Epoch 23/100\n",
      "8/8 [==============================] - 0s 10ms/step - loss: 0.0153\n",
      "Epoch 24/100\n",
      "8/8 [==============================] - 0s 10ms/step - loss: 0.0122\n",
      "Epoch 25/100\n",
      "8/8 [==============================] - 0s 11ms/step - loss: 0.0113\n",
      "Epoch 26/100\n",
      "8/8 [==============================] - 0s 7ms/step - loss: 0.0158\n",
      "Epoch 27/100\n",
      "8/8 [==============================] - 0s 6ms/step - loss: 0.0117\n",
      "Epoch 28/100\n",
      "8/8 [==============================] - 0s 6ms/step - loss: 0.0098\n",
      "Epoch 29/100\n",
      "8/8 [==============================] - 0s 5ms/step - loss: 0.0129\n",
      "Epoch 30/100\n",
      "8/8 [==============================] - 0s 6ms/step - loss: 0.0103\n",
      "Epoch 31/100\n",
      "8/8 [==============================] - 0s 5ms/step - loss: 0.0084\n",
      "Epoch 32/100\n",
      "8/8 [==============================] - 0s 5ms/step - loss: 0.0094\n",
      "Epoch 33/100\n",
      "8/8 [==============================] - 0s 5ms/step - loss: 0.0098\n",
      "Epoch 34/100\n",
      "8/8 [==============================] - 0s 5ms/step - loss: 0.0089\n",
      "Epoch 35/100\n",
      "8/8 [==============================] - 0s 5ms/step - loss: 0.0107\n",
      "Epoch 36/100\n",
      "8/8 [==============================] - 0s 5ms/step - loss: 0.0132\n",
      "Epoch 37/100\n",
      "8/8 [==============================] - 0s 6ms/step - loss: 0.0123\n",
      "Epoch 38/100\n",
      "8/8 [==============================] - 0s 10ms/step - loss: 0.0102\n",
      "Epoch 39/100\n",
      "8/8 [==============================] - 0s 11ms/step - loss: 0.0083\n",
      "Epoch 40/100\n",
      "8/8 [==============================] - 0s 10ms/step - loss: 0.0106\n",
      "Epoch 41/100\n",
      "8/8 [==============================] - 0s 11ms/step - loss: 0.0124\n",
      "Epoch 42/100\n",
      "8/8 [==============================] - 0s 9ms/step - loss: 0.0091\n",
      "Epoch 43/100\n",
      "8/8 [==============================] - 0s 6ms/step - loss: 0.0066\n",
      "Epoch 44/100\n",
      "8/8 [==============================] - 0s 6ms/step - loss: 0.0087\n",
      "Epoch 45/100\n",
      "8/8 [==============================] - 0s 12ms/step - loss: 0.0074\n",
      "Epoch 46/100\n",
      "8/8 [==============================] - 0s 12ms/step - loss: 0.0096\n",
      "Epoch 47/100\n",
      "8/8 [==============================] - 0s 13ms/step - loss: 0.0086\n",
      "Epoch 48/100\n",
      "8/8 [==============================] - 0s 8ms/step - loss: 0.0061\n",
      "Epoch 49/100\n",
      "8/8 [==============================] - 0s 11ms/step - loss: 0.0071\n",
      "Epoch 50/100\n",
      "8/8 [==============================] - 0s 6ms/step - loss: 0.0075\n",
      "Epoch 51/100\n",
      "8/8 [==============================] - 0s 6ms/step - loss: 0.0069\n",
      "Epoch 52/100\n",
      "8/8 [==============================] - 0s 6ms/step - loss: 0.0074\n",
      "Epoch 53/100\n",
      "8/8 [==============================] - 0s 6ms/step - loss: 0.0064\n",
      "Epoch 54/100\n",
      "8/8 [==============================] - 0s 5ms/step - loss: 0.0063\n",
      "Epoch 55/100\n",
      "8/8 [==============================] - 0s 5ms/step - loss: 0.0058\n",
      "Epoch 56/100\n",
      "8/8 [==============================] - 0s 5ms/step - loss: 0.0036\n",
      "Epoch 57/100\n",
      "8/8 [==============================] - 0s 5ms/step - loss: 0.0078\n",
      "Epoch 58/100\n",
      "8/8 [==============================] - 0s 5ms/step - loss: 0.0054\n",
      "Epoch 59/100\n",
      "8/8 [==============================] - 0s 5ms/step - loss: 0.0069\n",
      "Epoch 60/100\n",
      "8/8 [==============================] - 0s 5ms/step - loss: 0.0072\n",
      "Epoch 61/100\n",
      "8/8 [==============================] - 0s 5ms/step - loss: 0.0051\n",
      "Epoch 62/100\n",
      "8/8 [==============================] - 0s 6ms/step - loss: 0.0050\n",
      "Epoch 63/100\n",
      "8/8 [==============================] - 0s 6ms/step - loss: 0.0060\n",
      "Epoch 64/100\n",
      "8/8 [==============================] - 0s 6ms/step - loss: 0.0069\n",
      "Epoch 65/100\n",
      "8/8 [==============================] - 0s 6ms/step - loss: 0.0071\n",
      "Epoch 66/100\n",
      "8/8 [==============================] - 0s 6ms/step - loss: 0.0097\n",
      "Epoch 67/100\n",
      "8/8 [==============================] - 0s 6ms/step - loss: 0.0070\n",
      "Epoch 68/100\n",
      "8/8 [==============================] - 0s 6ms/step - loss: 0.0093\n",
      "Epoch 69/100\n",
      "8/8 [==============================] - 0s 6ms/step - loss: 0.0060\n",
      "Epoch 70/100\n",
      "8/8 [==============================] - 0s 7ms/step - loss: 0.0063\n",
      "Epoch 71/100\n",
      "8/8 [==============================] - 0s 5ms/step - loss: 0.0101\n",
      "Epoch 72/100\n",
      "8/8 [==============================] - 0s 6ms/step - loss: 0.0042\n",
      "Epoch 73/100\n",
      "8/8 [==============================] - 0s 6ms/step - loss: 0.0044\n",
      "Epoch 74/100\n",
      "8/8 [==============================] - 0s 6ms/step - loss: 0.0071\n",
      "Epoch 75/100\n",
      "8/8 [==============================] - 0s 6ms/step - loss: 0.0062\n",
      "Epoch 76/100\n",
      "8/8 [==============================] - 0s 6ms/step - loss: 0.0050\n",
      "Epoch 77/100\n",
      "8/8 [==============================] - 0s 6ms/step - loss: 0.0065\n",
      "Epoch 78/100\n",
      "8/8 [==============================] - 0s 6ms/step - loss: 0.0071\n",
      "Epoch 79/100\n",
      "8/8 [==============================] - 0s 6ms/step - loss: 0.0090\n",
      "Epoch 80/100\n",
      "8/8 [==============================] - 0s 6ms/step - loss: 0.0073\n",
      "Epoch 81/100\n",
      "8/8 [==============================] - 0s 6ms/step - loss: 0.0055\n",
      "Epoch 82/100\n",
      "8/8 [==============================] - 0s 6ms/step - loss: 0.0045\n",
      "Epoch 83/100\n",
      "8/8 [==============================] - 0s 7ms/step - loss: 0.0041\n",
      "Epoch 84/100\n",
      "8/8 [==============================] - 0s 8ms/step - loss: 0.0059\n",
      "Epoch 85/100\n",
      "8/8 [==============================] - 0s 7ms/step - loss: 0.0065\n",
      "Epoch 86/100\n",
      "8/8 [==============================] - 0s 8ms/step - loss: 0.0065\n",
      "Epoch 87/100\n",
      "8/8 [==============================] - 0s 8ms/step - loss: 0.0037\n",
      "Epoch 88/100\n",
      "8/8 [==============================] - 0s 8ms/step - loss: 0.0082\n",
      "Epoch 89/100\n",
      "8/8 [==============================] - 0s 7ms/step - loss: 0.0041\n",
      "Epoch 90/100\n",
      "8/8 [==============================] - 0s 6ms/step - loss: 0.0042\n",
      "Epoch 91/100\n",
      "8/8 [==============================] - 0s 9ms/step - loss: 0.0076\n",
      "Epoch 92/100\n",
      "8/8 [==============================] - 0s 7ms/step - loss: 0.0036\n",
      "Epoch 93/100\n",
      "8/8 [==============================] - 0s 8ms/step - loss: 0.0064\n",
      "Epoch 94/100\n",
      "8/8 [==============================] - 0s 8ms/step - loss: 0.0055\n",
      "Epoch 95/100\n",
      "8/8 [==============================] - 0s 8ms/step - loss: 0.0049\n",
      "Epoch 96/100\n",
      "8/8 [==============================] - 0s 10ms/step - loss: 0.0056\n",
      "Epoch 97/100\n",
      "8/8 [==============================] - 0s 7ms/step - loss: 0.0090\n",
      "Epoch 98/100\n",
      "8/8 [==============================] - 0s 7ms/step - loss: 0.0084\n",
      "Epoch 99/100\n",
      "8/8 [==============================] - 0s 7ms/step - loss: 0.0082\n",
      "Epoch 100/100\n",
      "8/8 [==============================] - 0s 7ms/step - loss: 0.0058\n"
     ]
    },
    {
     "data": {
      "text/plain": [
       "<tensorflow.python.keras.callbacks.History at 0x7fba169de220>"
      ]
     },
     "execution_count": 59,
     "metadata": {},
     "output_type": "execute_result"
    }
   ],
   "source": [
    "# 学習させる\n",
    "model_GRU.fit(x_train, y_train, batch_size=12, epochs=100)"
   ]
  },
  {
   "cell_type": "code",
   "execution_count": 60,
   "metadata": {},
   "outputs": [
    {
     "name": "stdout",
     "output_type": "stream",
     "text": [
      "RMSE: 0.037\n",
      "r2: 0.999\n"
     ]
    }
   ],
   "source": [
    "# 学習データへの精度\n",
    "y_train_pred = model_GRU.predict(x_train)\n",
    "print('RMSE: %.3f' % rmse(y_train, y_train_pred))\n",
    "print('r2: %.3f' % r2_score(y_train, y_train_pred))"
   ]
  },
  {
   "cell_type": "code",
   "execution_count": 61,
   "metadata": {},
   "outputs": [
    {
     "data": {
      "text/plain": [
       "<matplotlib.axes._subplots.AxesSubplot at 0x7fba17fed550>"
      ]
     },
     "execution_count": 61,
     "metadata": {},
     "output_type": "execute_result"
    },
    {
     "data": {
      "image/png": "[encoded data removed]",
      "text/plain": [
       "<Figure size 432x288 with 1 Axes>"
      ]
     },
     "metadata": {
      "needs_background": "light"
     },
     "output_type": "display_data"
    }
   ],
   "source": [
    "# 実績と比較\n",
    "dataf =  pd.DataFrame(y_train_pred)\n",
    "dataf.columns = [\"predict\"]\n",
    "dataf[\"Stock price\"] = y_train\n",
    "dataf.plot()"
   ]
  },
  {
   "cell_type": "code",
   "execution_count": 62,
   "metadata": {},
   "outputs": [
    {
     "name": "stdout",
     "output_type": "stream",
     "text": [
      "RMSE: 0.037\n",
      "r2: 0.995\n"
     ]
    }
   ],
   "source": [
    "# 検証データへの精度\n",
    "y_test_pred = model_GRU.predict(x_test)\n",
    "print('RMSE: %.3f' % rmse(y_train, y_train_pred))\n",
    "print('r2: %.3f' % r2_score(y_test, y_test_pred))"
   ]
  },
  {
   "cell_type": "code",
   "execution_count": 63,
   "metadata": {},
   "outputs": [
    {
     "data": {
      "text/plain": [
       "<matplotlib.axes._subplots.AxesSubplot at 0x7fba1ba10b80>"
      ]
     },
     "execution_count": 63,
     "metadata": {},
     "output_type": "execute_result"
    },
    {
     "data": {
      "image/png": "[encoded data removed]",
      "text/plain": [
       "<Figure size 432x288 with 1 Axes>"
      ]
     },
     "metadata": {
      "needs_background": "light"
     },
     "output_type": "display_data"
    }
   ],
   "source": [
    "# 実績と比較\n",
    "dataf =  pd.DataFrame(y_test_pred)\n",
    "dataf.columns = [\"predict\"]\n",
    "dataf[\"Stock price\"] = y_test\n",
    "dataf.plot()"
   ]
  },
  {
   "cell_type": "code",
   "execution_count": null,
   "metadata": {},
   "outputs": [],
   "source": []
  }
 ],
 "metadata": {
  "kernelspec": {
   "display_name": "Python 3",
   "language": "python",
   "name": "python3"
  },
  "language_info": {
   "codemirror_mode": {
    "name": "ipython",
    "version": 3
   },
   "file_extension": ".py",
   "mimetype": "text/x-python",
   "name": "python",
   "nbconvert_exporter": "python",
   "pygments_lexer": "ipython3",
   "version": "3.8.3"
  }
 },
 "nbformat": 4,
 "nbformat_minor": 4
}
